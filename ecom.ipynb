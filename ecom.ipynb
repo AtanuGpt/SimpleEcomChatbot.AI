{
 "cells": [
  {
   "cell_type": "code",
   "execution_count": null,
   "metadata": {},
   "outputs": [],
   "source": [
    "import os\n",
    "from openai import AzureOpenAI\n",
    "from dotenv import load_dotenv"
   ]
  },
  {
   "cell_type": "code",
   "execution_count": null,
   "metadata": {},
   "outputs": [],
   "source": [
    "load_dotenv()"
   ]
  },
  {
   "cell_type": "code",
   "execution_count": null,
   "metadata": {},
   "outputs": [],
   "source": [
    "product_list = '''\n",
    "# Fashion Shop Product List\n",
    "\n",
    "## Women's Clothing:\n",
    "\n",
    "- T-shirt  \n",
    "  - Price: $20  \n",
    "  - Available Sizes: Small, Medium, Large, XL  \n",
    "  - Available Colors: Red, White, Black, Gray, Navy\n",
    "  \n",
    "- Elegant Evening Gown  \n",
    "  - Price: $150  \n",
    "  - Available Sizes: Small, Medium, Large, XL  \n",
    "  - Available Colors: Black, Navy Blue, Burgundy\n",
    "\n",
    "- Floral Summer Dress  \n",
    "  - Price: $45  \n",
    "  - Available Sizes: Small, Medium, Large  \n",
    "  - Available Colors: Floral Print, Blue, Pink\n",
    "\n",
    "- Professional Blazer  \n",
    "  - Price: $80  \n",
    "  - Available Sizes: Small, Medium, Large, XL  \n",
    "  - Available Colors: Black, Gray, Navy\n",
    "\n",
    "## Men's Clothing:\n",
    "- Classic Suit Set  \n",
    "  - Price: $200  \n",
    "  - Available Sizes: Small, Medium, Large, XL  \n",
    "  - Available Colors: Charcoal Gray, Navy Blue, Black\n",
    "\n",
    "- Casual Denim Jeans  \n",
    "  - Price: $35  \n",
    "  - Available Sizes: 28, 30, 32, 34  \n",
    "  - Available Colors: Blue Denim, Black\n",
    "\n",
    "- Polo Shirt Collection  \n",
    "  - Price: $25 each  \n",
    "  - Available Sizes: Small, Medium, Large, XL  \n",
    "  - Available Colors: White, Blue, Red, Green\n",
    "\n",
    "## Accessories:\n",
    "- Stylish Sunglasses  \n",
    "  - Price: $20  \n",
    "  - Available Colors: Black, Brown, Tortoise Shell\n",
    "\n",
    "- Leather Handbag  \n",
    "  - Price: $60  \n",
    "  - Available Colors: Brown, Black, Red\n",
    "\n",
    "- Classic Wristwatch  \n",
    "  - Price: $50  \n",
    "  - Available Colors: Silver, Gold, Rose Gold\n",
    "\n",
    "## Footwear:\n",
    "- High-Heel Ankle Boots  \n",
    "  - Price: $70  \n",
    "  - Available Sizes: 5-10  \n",
    "  - Available Colors: Black, Tan, Burgundy\n",
    "\n",
    "- Comfortable Sneakers  \n",
    "  - Price: $55  \n",
    "  - Available Sizes: 6-12  \n",
    "  - Available Colors: White, Black, Gray\n",
    "\n",
    "- Formal Leather Shoes  \n",
    "  - Price: $90  \n",
    "  - Available Sizes: 7-11  \n",
    "  - Available Colors: Brown, Black\n",
    "\n",
    "## Kids' Collection:\n",
    "- Cute Cartoon T-shirts  \n",
    "  - Price: $15 each  \n",
    "  - Available Sizes: 2T, 3T, 4T  \n",
    "  - Available Colors: Blue, Pink, Yellow\n",
    "\n",
    "- Adorable Onesies  \n",
    "  - Price: $25  \n",
    "  - Available Sizes: Newborn, 3M, 6M, 12M  \n",
    "  - Available Colors: Pastel Blue, Pink, Mint Green\n",
    "\n",
    "- Trendy Kids' Backpacks  \n",
    "  - Price: $30  \n",
    "  - Available Colors: Blue, Red, Purple\n",
    "\n",
    "## Activewear:\n",
    "- Yoga Leggings  \n",
    "  - Price: $30  \n",
    "  - Available Sizes: Small, Medium, Large  \n",
    "  - Available Colors: Black, Gray, Teal\n",
    "\n",
    "- Running Shoes  \n",
    "  - Price: $40  \n",
    "  - Available Sizes: 6-12  \n",
    "  - Available Colors: White, Black, Neon Green\n",
    "\n",
    "- Quick-Dry Sports T-shirt  \n",
    "  - Price: $20  \n",
    "  - Available Sizes: Small, Medium, Large  \n",
    "  - Available Colors: Red, Blue, Gray\n",
    "\n",
    "  '''"
   ]
  },
  {
   "cell_type": "code",
   "execution_count": null,
   "metadata": {},
   "outputs": [],
   "source": [
    "context = [{'role': 'system',\n",
    "            'content': f\"\"\"\n",
    "You are ShopBot, an AI assistant for my online fashion shop - Atanu's Fashion Shop. \n",
    "Your role is to assist customers in browsing products, providing information, and guiding them through the checkout process. \n",
    "Be friendly and helpful in your interactions. We offer a variety of products across categories such as Women's Clothing, \n",
    "Men's clothing, Accessories, Kids' Collection, Footwears and Activewear products. \n",
    "Feel free to ask customers about their preferences, recommend products, and inform them about any ongoing promotions.\n",
    "The Current Product List is limited as below:\n",
    "\n",
    "```{product_list}```\n",
    "\n",
    "Make the shopping experience enjoyable and encourage customers to reach out if they have any questions or need assistance.\n",
    "\"\"\"}]"
   ]
  },
  {
   "cell_type": "code",
   "execution_count": null,
   "metadata": {},
   "outputs": [],
   "source": [
    "def get_completion_from_messages(messages):\n",
    "    client = AzureOpenAI(\n",
    "        api_key = os.environ[\"AZURE_OPENAI_API_KEY\"],\n",
    "        api_version = os.environ[\"API_VERSION\"],\n",
    "        azure_endpoint = os.environ[\"AZURE_OPENAI_ENDPOINT\"]\n",
    "    )\n",
    "\n",
    "    chat_completion = client.chat.completions.create(\n",
    "        model = os.environ[\"DEPLOYMENT_MODEL\"],\n",
    "        messages = messages\n",
    "    )\n",
    "\n",
    "    return chat_completion.choices[0].message.content"
   ]
  },
  {
   "cell_type": "code",
   "execution_count": null,
   "metadata": {},
   "outputs": [],
   "source": [
    "def collect_messages(user_input):\n",
    "    context.append({\"role\" : \"user\", \"content\" : f\"{user_input}\"})\n",
    "    response = get_completion_from_messages(context)\n",
    "    context.append({\"role\" : \"user\", \"content\" : f\"{response}\"})\n",
    "\n",
    "    print(response)"
   ]
  },
  {
   "cell_type": "code",
   "execution_count": null,
   "metadata": {},
   "outputs": [],
   "source": [
    "collect_messages(\"Do you have T-Shirts\")"
   ]
  },
  {
   "cell_type": "code",
   "execution_count": null,
   "metadata": {},
   "outputs": [],
   "source": [
    "collect_messages(\"Looking for medium sized T-Shirts\")"
   ]
  },
  {
   "cell_type": "code",
   "execution_count": null,
   "metadata": {},
   "outputs": [],
   "source": [
    "collect_messages(\"Looking for textured T-Shirts\")"
   ]
  },
  {
   "cell_type": "code",
   "execution_count": null,
   "metadata": {},
   "outputs": [],
   "source": [
    "collect_messages(\"I need the gray one\")"
   ]
  },
  {
   "cell_type": "code",
   "execution_count": null,
   "metadata": {},
   "outputs": [],
   "source": [
    "collect_messages(\"I need yoga leggins also\")"
   ]
  },
  {
   "cell_type": "code",
   "execution_count": null,
   "metadata": {},
   "outputs": [],
   "source": [
    "collect_messages(\"Create a table of summary of my orders\")"
   ]
  },
  {
   "cell_type": "code",
   "execution_count": null,
   "metadata": {},
   "outputs": [],
   "source": [
    "collect_messages(\"I also want to add casual denim jeans\")"
   ]
  },
  {
   "cell_type": "code",
   "execution_count": null,
   "metadata": {},
   "outputs": [],
   "source": [
    "collect_messages(\"Create a table of summary of my orders\")"
   ]
  },
  {
   "cell_type": "code",
   "execution_count": null,
   "metadata": {},
   "outputs": [],
   "source": [
    "collect_messages(\"No it looks great. Please let me the total bill and the payment process\")"
   ]
  }
 ],
 "metadata": {
  "kernelspec": {
   "display_name": "Python 3",
   "language": "python",
   "name": "python3"
  },
  "language_info": {
   "codemirror_mode": {
    "name": "ipython",
    "version": 3
   },
   "file_extension": ".py",
   "mimetype": "text/x-python",
   "name": "python",
   "nbconvert_exporter": "python",
   "pygments_lexer": "ipython3",
   "version": "3.11.7"
  }
 },
 "nbformat": 4,
 "nbformat_minor": 2
}
